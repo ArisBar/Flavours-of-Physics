{
 "cells": [
  {
   "cell_type": "markdown",
   "metadata": {},
   "source": [
    "# Load Librairies"
   ]
  },
  {
   "cell_type": "code",
   "execution_count": 1,
   "metadata": {
    "collapsed": false
   },
   "outputs": [],
   "source": [
    "# Import lib and modules\n",
    "import numpy as np\n",
    "import pandas as pd\n",
    "from sklearn.metrics import roc_curve, auc;\n",
    "from sklearn.model_selection import cross_val_score"
   ]
  },
  {
   "cell_type": "code",
   "execution_count": 4,
   "metadata": {
    "collapsed": false
   },
   "outputs": [
    {
     "name": "stderr",
     "output_type": "stream",
     "text": [
      "/usr/lib/python3.5/site-packages/sklearn/cross_validation.py:44: DeprecationWarning: This module was deprecated in version 0.18 in favor of the model_selection module into which all the refactored classes and functions are moved. Also note that the interface of the new CV iterators are different from that of this module. This module will be removed in 0.20.\n",
      "  \"This module will be removed in 0.20.\", DeprecationWarning)\n"
     ]
    }
   ],
   "source": [
    "from sklearn.cross_validation import KFold\n",
    "from sklearn.ensemble import AdaBoostClassifier\n",
    "from sklearn.tree import DecisionTreeClassifier\n",
    "from sklearn.model_selection import train_test_split"
   ]
  },
  {
   "cell_type": "code",
   "execution_count": 36,
   "metadata": {
    "collapsed": true
   },
   "outputs": [],
   "source": [
    "def new_features(df):\n",
    "    # significance of flight distance\n",
    "    df['Flight_dist_sig'] = df['FlightDistance']/df['FlightDistanceError']\n",
    "    # momenta p0_pz (along the beam) of the muons\n",
    "    df['p0_pz'] = np.sqrt(df['p0_p']**2 - df['p0_pt']**2)\n",
    "    df['p1_pz'] = np.sqrt(df['p1_p']**2 - df['p1_pt']**2)\n",
    "    df['p2_pz'] = np.sqrt(df['p2_p']**2 - df['p2_pt']**2)\n",
    "    # momentum p_z (along the beam) of tau\n",
    "    df['tau_pz'] = df['p0_pt']*np.sinh(df['p0_eta']) + df['p1_pt']*np.sinh(df['p1_eta']) + df['p1_pt']*np.sinh(df['p1_eta'])\n",
    "    # modulus momentum p of tau\n",
    "    df['tau_p'] = np.sqrt(df['pt']**2 + df['tau_pz']**2)\n",
    "    # speed of tau\n",
    "    df['tau_v'] = df['FlightDistance']/df['LifeTime']\n",
    "    # mass of tau (momentum over speed)\n",
    "    df['tau_m'] = df['tau_p']/df['tau_v']\n",
    "    return df\n",
    "\n",
    "def __rolling_window(data, window_size):\n",
    "    \"\"\"\n",
    "    Rolling window: take window with definite size through the array\n",
    "    :param data: array-like\n",
    "    :param window_size: size\n",
    "    :return: the sequence of windows\n",
    "    Example: data = array(1, 2, 3, 4, 5, 6), window_size = 4\n",
    "        Then this function return array(array(1, 2, 3, 4), array(2, 3, 4, 5), array(3, 4, 5, 6))\n",
    "    \"\"\"\n",
    "    shape = data.shape[:-1] + (data.shape[-1] - window_size + 1, window_size)\n",
    "    strides = data.strides + (data.strides[-1],)\n",
    "    return np.lib.stride_tricks.as_strided(data, shape=shape, strides=strides)\n",
    "\n",
    "\n",
    "def __cvm(subindices, total_events):\n",
    "    \"\"\"\n",
    "    Compute Cramer-von Mises metric.\n",
    "    Compared two distributions, where first is subset of second one.\n",
    "    Assuming that second is ordered by ascending\n",
    "    :param subindices: indices of events which will be associated with the first distribution\n",
    "    :param total_events: count of events in the second distribution\n",
    "    :return: cvm metric\n",
    "    \"\"\"\n",
    "    target_distribution = np.arange(1, total_events + 1, dtype='float') / total_events\n",
    "    subarray_distribution = np.cumsum(np.bincount(subindices, minlength=total_events), dtype='float')\n",
    "    subarray_distribution /= 1.0 * subarray_distribution[-1]\n",
    "    return np.mean((target_distribution - subarray_distribution) ** 2)\n",
    "\n",
    "\n",
    "def compute_cvm(predictions, masses, n_neighbours=200, step=50):\n",
    "    \"\"\"\n",
    "    Computing Cramer-von Mises (cvm) metric on background events: take average of cvms calculated for each mass bin.\n",
    "    In each mass bin global prediction's cdf is compared to prediction's cdf in mass bin.\n",
    "    :param predictions: array-like, predictions\n",
    "    :param masses: array-like, in case of Kaggle tau23mu this is reconstructed mass\n",
    "    :param n_neighbours: count of neighbours for event to define mass bin\n",
    "    :param step: step through sorted mass-array to define next center of bin\n",
    "    :return: average cvm value\n",
    "    \"\"\"\n",
    "    predictions = np.array(predictions)\n",
    "    masses = np.array(masses)\n",
    "    assert len(predictions) == len(masses)\n",
    "\n",
    "    # First, reorder by masses\n",
    "    predictions = predictions[np.argsort(masses)]\n",
    "\n",
    "    # Second, replace probabilities with order of probability among other events\n",
    "    predictions = np.argsort(np.argsort(predictions, kind='mergesort'), kind='mergesort')\n",
    "\n",
    "    # Now, each window forms a group, and we can compute contribution of each group to CvM\n",
    "    cvms = []\n",
    "    for window in __rolling_window(predictions, window_size=n_neighbours)[::step]:\n",
    "        cvms.append(__cvm(subindices=window, total_events=len(predictions)))\n",
    "    return np.mean(cvms)\n",
    "\n",
    "\n",
    "def __roc_curve_splitted(data_zero, data_one, sample_weights_zero, sample_weights_one):\n",
    "    \"\"\"\n",
    "    Compute roc curve\n",
    "    :param data_zero: 0-labeled data\n",
    "    :param data_one:  1-labeled data\n",
    "    :param sample_weights_zero: weights for 0-labeled data\n",
    "    :param sample_weights_one:  weights for 1-labeled data\n",
    "    :return: roc curve\n",
    "    \"\"\"\n",
    "    labels = [0] * len(data_zero) + [1] * len(data_one)\n",
    "    weights = np.concatenate([sample_weights_zero, sample_weights_one])\n",
    "    data_all = np.concatenate([data_zero, data_one])\n",
    "    fpr, tpr, _ = roc_curve(labels, data_all, sample_weight=weights)\n",
    "    return fpr, tpr\n",
    "\n",
    "\n",
    "def compute_ks(data_prediction, mc_prediction, weights_data, weights_mc):\n",
    "    \"\"\"\n",
    "    Compute Kolmogorov-Smirnov (ks) distance between real data predictions cdf and Monte Carlo one.\n",
    "    :param data_prediction: array-like, real data predictions\n",
    "    :param mc_prediction: array-like, Monte Carlo data predictions\n",
    "    :param weights_data: array-like, real data weights\n",
    "    :param weights_mc: array-like, Monte Carlo weights\n",
    "    :return: ks value\n",
    "    \"\"\"\n",
    "    assert len(data_prediction) == len(weights_data), 'Data length and weight one must be the same'\n",
    "    assert len(mc_prediction) == len(weights_mc), 'Data length and weight one must be the same'\n",
    "\n",
    "    data_prediction, mc_prediction = np.array(data_prediction), np.array(mc_prediction)\n",
    "    weights_data, weights_mc = np.array(weights_data), np.array(weights_mc)\n",
    "\n",
    "    assert np.all(data_prediction >= 0.) and np.all(data_prediction <= 1.), 'Data predictions are out of range [0, 1]'\n",
    "    assert np.all(mc_prediction >= 0.) and np.all(mc_prediction <= 1.), 'MC predictions are out of range [0, 1]'\n",
    "\n",
    "    weights_data /= np.sum(weights_data)\n",
    "    weights_mc /= np.sum(weights_mc)\n",
    "\n",
    "    fpr, tpr = __roc_curve_splitted(data_prediction, mc_prediction, weights_data, weights_mc)\n",
    "\n",
    "    Dnm = np.max(np.abs(fpr - tpr))\n",
    "    return Dnm\n",
    "\n",
    "\n",
    "def roc_auc_truncated(labels, predictions, tpr_thresholds=(0.2, 0.4, 0.6, 0.8),\n",
    "                      roc_weights=(4, 3, 2, 1, 0)):\n",
    "    \"\"\"\n",
    "    Compute weighted area under ROC curve.\n",
    "    :param labels: array-like, true labels\n",
    "    :param predictions: array-like, predictions\n",
    "    :param tpr_thresholds: array-like, true positive rate thresholds delimiting the ROC segments\n",
    "    :param roc_weights: array-like, weights for true positive rate segments\n",
    "    :return: weighted AUC\n",
    "    \"\"\"\n",
    "    assert np.all(predictions >= 0.) and np.all(predictions <= 1.), 'Data predictions are out of range [0, 1]'\n",
    "    assert len(tpr_thresholds) + 1 == len(roc_weights), 'Incompatible lengths of thresholds and weights'\n",
    "    fpr, tpr, _ = roc_curve(labels, predictions)\n",
    "    area = 0.\n",
    "    tpr_thresholds = [0.] + list(tpr_thresholds) + [1.]\n",
    "    for index in range(1, len(tpr_thresholds)):\n",
    "        tpr_cut = np.minimum(tpr, tpr_thresholds[index])\n",
    "        tpr_previous = np.minimum(tpr, tpr_thresholds[index - 1])\n",
    "        area += roc_weights[index - 1] * (auc(fpr, tpr_cut, reorder=True) - auc(fpr, tpr_previous, reorder=True))\n",
    "    tpr_thresholds = np.array(tpr_thresholds)\n",
    "    # roc auc normalization to be 1 for an ideal classifier\n",
    "    area /= np.sum((tpr_thresholds[1:] - tpr_thresholds[:-1]) * np.array(roc_weights))\n",
    "    return area\n",
    "\n",
    "def check_agreement(clf):\n",
    "    \"\"\"\n",
    "    Return KS metric for a given classifier and print test result\n",
    "    \"\"\"\n",
    "    check_agreement = pd.read_csv(folder + 'check_agreement.csv', index_col='id')\n",
    "    new_features(check_agreement)\n",
    "    agreement_probs = clf.predict_proba(check_agreement[variables])[:, 1]\n",
    "    ks = compute_ks(\n",
    "    agreement_probs[check_agreement['signal'].values == 0],\n",
    "    agreement_probs[check_agreement['signal'].values == 1],\n",
    "    check_agreement[check_agreement['signal'] == 0]['weight'].values,\n",
    "    check_agreement[check_agreement['signal'] == 1]['weight'].values)\n",
    "    print('KS metric', ks, ks < 0.09)\n",
    "    return ks\n",
    "    \n",
    "def check_correlation(clf):\n",
    "    \"\"\"\n",
    "    Return cvm metric for a given classifier and print test result\n",
    "    \"\"\"\n",
    "    check_correlation = pd.read_csv(folder + 'check_correlation.csv', index_col='id')\n",
    "    new_features(check_correlation)\n",
    "    correlation_probs = clf.predict_proba(check_correlation[variables])[:, 1]\n",
    "    cvm = compute_cvm(correlation_probs, check_correlation['mass'])\n",
    "    print('CvM metric', cvm, cvm < 0.002)\n",
    "    return cvm\n",
    "\n",
    "def compute_AUC(clf, train_data):\n",
    "    \"\"\"\n",
    "    Compute weighted AUC on the training data with min_ANNmuon > 0.4\n",
    "    \"\"\"\n",
    "    train_eval = train_data[train_data['min_ANNmuon'] > 0.4]\n",
    "    train_probs = clf.predict_proba(train_eval[variables])[:, 1]\n",
    "    AUC = roc_auc_truncated(train_eval['signal'], train_probs)\n",
    "    return AUC\n",
    "    print('AUC', AUC)"
   ]
  },
  {
   "cell_type": "markdown",
   "metadata": {},
   "source": [
    "# Load Data"
   ]
  },
  {
   "cell_type": "code",
   "execution_count": 53,
   "metadata": {
    "collapsed": false
   },
   "outputs": [
    {
     "name": "stdout",
     "output_type": "stream",
     "text": [
      "reading training data...\n"
     ]
    }
   ],
   "source": [
    "# Load training data\n",
    "folder = 'data/'\n",
    "train = pd.read_csv(folder + 'training.csv', index_col='id')\n",
    "print('reading training data...')\n",
    "train.head()\n",
    "variables = list(train.columns) \n",
    "var_out = ['SPDhits', 'production', 'signal', 'mass','id','min_ANNmuon']\n",
    "variables = [v for v in variables if v not in var_out]"
   ]
  },
  {
   "cell_type": "markdown",
   "metadata": {},
   "source": [
    "# Split in K-Fold for Cross-Validation"
   ]
  },
  {
   "cell_type": "code",
   "execution_count": 5,
   "metadata": {
    "collapsed": false
   },
   "outputs": [],
   "source": [
    "kf = KFold(len(train), n_folds=5, random_state=555, shuffle=True)"
   ]
  },
  {
   "cell_type": "markdown",
   "metadata": {},
   "source": [
    "# Naive Bayes Classifier"
   ]
  },
  {
   "cell_type": "markdown",
   "metadata": {},
   "source": [
    "### Train"
   ]
  },
  {
   "cell_type": "code",
   "execution_count": 9,
   "metadata": {
    "collapsed": false
   },
   "outputs": [
    {
     "name": "stdout",
     "output_type": "stream",
     "text": [
      "mean AUC 0.961283826268\n"
     ]
    }
   ],
   "source": [
    "from sklearn.naive_bayes import GaussianNB\n",
    "results =[]\n",
    "for train_idx, test_idx in kf:\n",
    "    X_train = train[variables].iloc[train_idx]\n",
    "    y_train = train['signal'].iloc[train_idx]\n",
    "    X_test = train[variables].iloc[test_idx]\n",
    "    y_test = train['signal'].iloc[test_idx]\n",
    "    \n",
    "    gnb = GaussianNB()\n",
    "    gnb.fit(X_train,y_train)\n",
    "    \n",
    "    predict_proba = gnb.predict_proba(X_test)[:,1]\n",
    "    results.append(roc_auc_truncated(y_test, predict_proba))\n",
    "print('mean AUC', np.mean(np.asarray(results)))    "
   ]
  },
  {
   "cell_type": "markdown",
   "metadata": {},
   "source": [
    "### Additional Tests"
   ]
  },
  {
   "cell_type": "code",
   "execution_count": 42,
   "metadata": {
    "collapsed": false
   },
   "outputs": [
    {
     "name": "stdout",
     "output_type": "stream",
     "text": [
      "KS metric 0.0307184785279 True\n",
      "CvM metric 0.00098074500991 True\n"
     ]
    }
   ],
   "source": [
    "a = check_agreement(gnb)\n",
    "b = check_correlation(gnb)"
   ]
  },
  {
   "cell_type": "markdown",
   "metadata": {},
   "source": [
    "# Decision Tree Classifier"
   ]
  },
  {
   "cell_type": "markdown",
   "metadata": {},
   "source": [
    "## Train"
   ]
  },
  {
   "cell_type": "code",
   "execution_count": 6,
   "metadata": {
    "collapsed": false
   },
   "outputs": [],
   "source": [
    "results = []\n",
    "for i in range (1,100):\n",
    "    AUC = []\n",
    "    for train_idx, test_idx in kf:\n",
    "        X_train = train[variables].iloc[train_idx]\n",
    "        y_train = train['signal'].iloc[train_idx]\n",
    "        X_test = train[variables].iloc[test_idx]\n",
    "        y_test = train['signal'].iloc[test_idx]\n",
    "\n",
    "        clf1 = DecisionTreeClassifier(random_state=0, max_depth=i)\n",
    "        clf1.fit(X_train, y_train)\n",
    "        predict_proba = clf1.predict_proba(X_test)[:,1]\n",
    "        AUC.append(roc_auc_truncated(y_test, predict_proba))\n",
    "    results.append(AUC)"
   ]
  },
  {
   "cell_type": "code",
   "execution_count": 7,
   "metadata": {
    "collapsed": false
   },
   "outputs": [],
   "source": [
    "x = np.linspace(1,100,100)\n",
    "y = 1-np.mean(np.asarray(results),axis=1)"
   ]
  },
  {
   "cell_type": "markdown",
   "metadata": {},
   "source": [
    "### Plot"
   ]
  },
  {
   "cell_type": "code",
   "execution_count": 46,
   "metadata": {
    "collapsed": false
   },
   "outputs": [
    {
     "data": {
      "image/png": "[encoded data removed]",
      "text/plain": [
       "<matplotlib.figure.Figure at 0x7f6acdf93518>"
      ]
     },
     "metadata": {},
     "output_type": "display_data"
    }
   ],
   "source": [
    "import matplotlib.pyplot as plt\n",
    "\n",
    "plt.figure(num=None, figsize=(8, 6), dpi=80, facecolor='w', edgecolor='k')\n",
    "plt.plot(x[1:50],y[0:49],color='r')\n",
    "plt.xlabel('Maximum depth of tree')\n",
    "plt.ylabel('1-AUC')\n",
    "plt.grid(True)\n",
    "#plt.savefig(\"test.png\")\n",
    "plt.show()"
   ]
  },
  {
   "cell_type": "markdown",
   "metadata": {},
   "source": [
    "### Best hyper-parameters"
   ]
  },
  {
   "cell_type": "code",
   "execution_count": 38,
   "metadata": {
    "collapsed": false
   },
   "outputs": [
    {
     "name": "stdout",
     "output_type": "stream",
     "text": [
      "0.972462418901 6\n"
     ]
    }
   ],
   "source": [
    "print (1-np.min(y),np.argmin(y))"
   ]
  },
  {
   "cell_type": "markdown",
   "metadata": {},
   "source": [
    "### Additonal Tests"
   ]
  },
  {
   "cell_type": "code",
   "execution_count": 37,
   "metadata": {
    "collapsed": false
   },
   "outputs": [
    {
     "name": "stdout",
     "output_type": "stream",
     "text": [
      "KS metric 0.0354917615126 True\n",
      "CvM metric 0.001051282536 True\n",
      "KS metric 0.0445140670933 True\n",
      "CvM metric 0.00104243772874 True\n",
      "KS metric 0.0455357741279 True\n",
      "CvM metric 0.00117721033925 True\n",
      "KS metric 0.0448501405167 True\n",
      "CvM metric 0.00128238189044 True\n",
      "KS metric 0.0333243828262 True\n",
      "CvM metric 0.00103781129291 True\n"
     ]
    }
   ],
   "source": [
    "for train_idx, test_idx in kf:\n",
    "        X_train = train[variables].iloc[train_idx]\n",
    "        y_train = train['signal'].iloc[train_idx]\n",
    "        X_test = train[variables].iloc[test_idx]\n",
    "        y_test = train['signal'].iloc[test_idx]\n",
    "\n",
    "        clf1 = DecisionTreeClassifier(random_state=0, max_depth=6)\n",
    "        clf1.fit(X_train, y_train)\n",
    "        check_agreement(clf1)\n",
    "        check_correlation(clf1)"
   ]
  },
  {
   "cell_type": "markdown",
   "metadata": {},
   "source": [
    "# AdaBoost Tree Classifier"
   ]
  },
  {
   "cell_type": "markdown",
   "metadata": {},
   "source": [
    "### Train"
   ]
  },
  {
   "cell_type": "code",
   "execution_count": 12,
   "metadata": {
    "collapsed": false,
    "scrolled": true
   },
   "outputs": [
    {
     "name": "stdout",
     "output_type": "stream",
     "text": [
      "1\n",
      "2\n",
      "3\n",
      "4\n",
      "5\n"
     ]
    }
   ],
   "source": [
    "results = []\n",
    "\n",
    "depth = 1\n",
    "nestimators=100\n",
    "minsampleleafs = 1\n",
    "j=0\n",
    "for train_idx, test_idx in kf:\n",
    "    AUC = []\n",
    "    X_train = train[variables].iloc[train_idx]\n",
    "    y_train = train['signal'].iloc[train_idx]\n",
    "    X_test = train[variables].iloc[test_idx]\n",
    "    y_test = train['signal'].iloc[test_idx]\n",
    "\n",
    "    clf1 = AdaBoostClassifier(DecisionTreeClassifier(min_samples_leaf=minsampleleafs, random_state=0, max_depth=depth), algorithm = \"SAMME.R\", \n",
    "                              n_estimators = nestimators)\n",
    "    \n",
    "    # Compute weighted AUC on the training data with min_ANNmuon > 0.4¶\n",
    "    clf1.fit(X_train, y_train)\n",
    "    genProbs = clf1.staged_predict_proba(X_test)\n",
    "    \n",
    "    for i in range(0,nestimators):\n",
    "        AUC.append(roc_auc_truncated(y_test, next(genProbs)[:,1]))\n",
    "    \n",
    "    results.append(AUC)\n",
    "    j=j+1\n",
    "    print(j)"
   ]
  },
  {
   "cell_type": "code",
   "execution_count": 21,
   "metadata": {
    "collapsed": false
   },
   "outputs": [],
   "source": [
    "depth1 = 1-np.mean(np.asarray(results),axis=0)"
   ]
  },
  {
   "cell_type": "code",
   "execution_count": 23,
   "metadata": {
    "collapsed": false
   },
   "outputs": [],
   "source": [
    "#np.savetxt('depth1.txt', depth1, fmt='%f')\n",
    "#np.savetxt('depth2.txt', depth2, fmt='%f')\n",
    "#np.savetxt('depth3.txt', depth3, fmt='%f')"
   ]
  },
  {
   "cell_type": "code",
   "execution_count": 28,
   "metadata": {
    "collapsed": false
   },
   "outputs": [],
   "source": [
    "depth1 = np.loadtxt('depth1.txt')\n",
    "depth2 = np.loadtxt('depth2.txt')\n",
    "depth3 = np.loadtxt('depth3.txt')"
   ]
  },
  {
   "cell_type": "markdown",
   "metadata": {},
   "source": [
    "### Plot"
   ]
  },
  {
   "cell_type": "code",
   "execution_count": 47,
   "metadata": {
    "collapsed": false
   },
   "outputs": [
    {
     "data": {
      "image/png": "[encoded data removed]",
      "text/plain": [
       "<matplotlib.figure.Figure at 0x7f6acde43b38>"
      ]
     },
     "metadata": {},
     "output_type": "display_data"
    }
   ],
   "source": [
    "import matplotlib.pyplot as plt\n",
    "plt.figure(num=None, figsize=(8, 6), dpi=80, facecolor='w', edgecolor='k')\n",
    "plt.plot(x[0:100],depth1[0:100],color='r',label='depth=1')\n",
    "plt.plot(x[0:100],depth2[0:100],color='b',label='depth=2')\n",
    "plt.plot(x[0:100],depth3[0:100],color='k',label='depth=3')\n",
    "plt.xlabel('Number of estimators')\n",
    "plt.ylabel('1-AUC')\n",
    "plt.legend()\n",
    "plt.grid(True)\n",
    "plt.show()"
   ]
  },
  {
   "cell_type": "markdown",
   "metadata": {},
   "source": [
    "### Best hyper-parameters"
   ]
  },
  {
   "cell_type": "code",
   "execution_count": 35,
   "metadata": {
    "collapsed": false
   },
   "outputs": [
    {
     "name": "stdout",
     "output_type": "stream",
     "text": [
      "0.985012 343\n",
      "0.987178 83\n",
      "0.985705 29\n"
     ]
    }
   ],
   "source": [
    "print(1-np.min(depth1),np.argmin(depth1))\n",
    "print(1-np.min(depth2),np.argmin(depth2))\n",
    "print(1-np.min(depth3),np.argmin(depth3))"
   ]
  },
  {
   "cell_type": "markdown",
   "metadata": {},
   "source": [
    "### Additional Tests"
   ]
  },
  {
   "cell_type": "code",
   "execution_count": 39,
   "metadata": {
    "collapsed": false
   },
   "outputs": [
    {
     "name": "stdout",
     "output_type": "stream",
     "text": [
      "KS metric 0.0907679900406 False\n",
      "CvM metric 0.00084405548798 True\n",
      "KS metric 0.107755509414 False\n",
      "CvM metric 0.00091169647502 True\n",
      "KS metric 0.100260195415 False\n",
      "CvM metric 0.000844029266993 True\n",
      "KS metric 0.0923310954214 False\n",
      "CvM metric 0.000914992358333 True\n",
      "KS metric 0.0952349718036 False\n",
      "CvM metric 0.000840805627813 True\n"
     ]
    }
   ],
   "source": [
    "for train_idx, test_idx in kf:\n",
    "    X_train = train[variables].iloc[train_idx]\n",
    "    y_train = train['signal'].iloc[train_idx]\n",
    "    X_test = train[variables].iloc[test_idx]\n",
    "    y_test = train['signal'].iloc[test_idx]\n",
    "\n",
    "    clf1 = AdaBoostClassifier(DecisionTreeClassifier(min_samples_leaf=minsampleleafs, random_state=0, max_depth=2), algorithm = \"SAMME.R\", \n",
    "                              n_estimators = 83)\n",
    "    \n",
    "    clf1.fit(X_train, y_train)\n",
    "    check_agreement(clf1)\n",
    "    check_correlation(clf1)"
   ]
  },
  {
   "cell_type": "markdown",
   "metadata": {},
   "source": [
    "# TSV Format for TSN-e"
   ]
  },
  {
   "cell_type": "code",
   "execution_count": 62,
   "metadata": {
    "collapsed": false
   },
   "outputs": [],
   "source": [
    "variables = list(train.columns) \n",
    "var_out = ['SPDhits', 'production', 'mass','id','min_ANNmuon']\n",
    "variables = [v for v in variables if v not in var_out]\n",
    "pd.DataFrame(train[variables]).to_csv('output.tsv',sep='\\t',index=False,header=True, quoting=csv.QUOTE_NONE)"
   ]
  },
  {
   "cell_type": "markdown",
   "metadata": {},
   "source": [
    "http://projector.tensorflow.org/"
   ]
  }
 ],
 "metadata": {
  "anaconda-cloud": {},
  "kernelspec": {
   "display_name": "Python 3",
   "language": "python",
   "name": "python3"
  },
  "language_info": {
   "codemirror_mode": {
    "name": "ipython",
    "version": 3
   },
   "file_extension": ".py",
   "mimetype": "text/x-python",
   "name": "python",
   "nbconvert_exporter": "python",
   "pygments_lexer": "ipython3",
   "version": "3.5.2"
  }
 },
 "nbformat": 4,
 "nbformat_minor": 1
}
