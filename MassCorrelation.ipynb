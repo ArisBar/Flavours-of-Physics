{
 "cells": [
  {
   "cell_type": "code",
   "execution_count": 1,
   "metadata": {
    "collapsed": true
   },
   "outputs": [],
   "source": [
    "import features\n",
    "import numpy as np\n",
    "import pandas as pd"
   ]
  },
  {
   "cell_type": "code",
   "execution_count": 2,
   "metadata": {
    "collapsed": false
   },
   "outputs": [],
   "source": [
    "folder = 'data/'\n",
    "train = pd.read_csv(folder + 'training.csv', index_col='id')"
   ]
  },
  {
   "cell_type": "code",
   "execution_count": 16,
   "metadata": {
    "collapsed": false
   },
   "outputs": [],
   "source": [
    "train = features.new_features(train)"
   ]
  },
  {
   "cell_type": "code",
   "execution_count": 17,
   "metadata": {
    "collapsed": false
   },
   "outputs": [
    {
     "data": {
      "text/html": [
       "<pre>\n",
       "&lt;class 'pandas.core.frame.DataFrame'&gt;\n",
       "Int64Index: 67553 entries, 18453471 to 16716947\n",
       "Data columns (total 62 columns):\n",
       "LifeTime               67553  non-null values\n",
       "dira                   67553  non-null values\n",
       "FlightDistance         67553  non-null values\n",
       "FlightDistanceError    67553  non-null values\n",
       "IP                     67553  non-null values\n",
       "IPSig                  67553  non-null values\n",
       "VertexChi2             67553  non-null values\n",
       "pt                     67553  non-null values\n",
       "DOCAone                67553  non-null values\n",
       "DOCAtwo                67553  non-null values\n",
       "DOCAthree              67553  non-null values\n",
       "IP_p0p2                67553  non-null values\n",
       "IP_p1p2                67553  non-null values\n",
       "isolationa             67553  non-null values\n",
       "isolationb             67553  non-null values\n",
       "isolationc             67553  non-null values\n",
       "isolationd             67553  non-null values\n",
       "isolatione             67553  non-null values\n",
       "isolationf             67553  non-null values\n",
       "iso                    67553  non-null values\n",
       "CDF1                   67553  non-null values\n",
       "CDF2                   67553  non-null values\n",
       "CDF3                   67553  non-null values\n",
       "ISO_SumBDT             67553  non-null values\n",
       "p0_IsoBDT              67553  non-null values\n",
       "p1_IsoBDT              67553  non-null values\n",
       "p2_IsoBDT              67553  non-null values\n",
       "p0_track_Chi2Dof       67553  non-null values\n",
       "p1_track_Chi2Dof       67553  non-null values\n",
       "p2_track_Chi2Dof       67553  non-null values\n",
       "p0_IP                  67553  non-null values\n",
       "p1_IP                  67553  non-null values\n",
       "p2_IP                  67553  non-null values\n",
       "p0_IPSig               67553  non-null values\n",
       "p1_IPSig               67553  non-null values\n",
       "p2_IPSig               67553  non-null values\n",
       "p0_pt                  67553  non-null values\n",
       "p1_pt                  67553  non-null values\n",
       "p2_pt                  67553  non-null values\n",
       "p0_p                   67553  non-null values\n",
       "p1_p                   67553  non-null values\n",
       "p2_p                   67553  non-null values\n",
       "p0_eta                 67553  non-null values\n",
       "p1_eta                 67553  non-null values\n",
       "p2_eta                 67553  non-null values\n",
       "SPDhits                67553  non-null values\n",
       "production             67553  non-null values\n",
       "signal                 67553  non-null values\n",
       "mass                   67553  non-null values\n",
       "min_ANNmuon            67553  non-null values\n",
       "Flight_dist_sig        67553  non-null values\n",
       "p0_pz                  67553  non-null values\n",
       "p1_pz                  67553  non-null values\n",
       "p2_pz                  67553  non-null values\n",
       "tau_pz                 67553  non-null values\n",
       "tau_p                  67553  non-null values\n",
       "tau_v                  67553  non-null values\n",
       "tau_m                  67553  non-null values\n",
       "tau_e                  67553  non-null values\n",
       "tau_m2                 67553  non-null values\n",
       "tau_m_k                67553  non-null values\n",
       "tau_m_t                67553  non-null values\n",
       "dtypes: float64(56), int64(6)\n",
       "</pre>"
      ],
      "text/plain": [
       "<class 'pandas.core.frame.DataFrame'>\n",
       "Int64Index: 67553 entries, 18453471 to 16716947\n",
       "Data columns (total 62 columns):\n",
       "LifeTime               67553  non-null values\n",
       "dira                   67553  non-null values\n",
       "FlightDistance         67553  non-null values\n",
       "FlightDistanceError    67553  non-null values\n",
       "IP                     67553  non-null values\n",
       "IPSig                  67553  non-null values\n",
       "VertexChi2             67553  non-null values\n",
       "pt                     67553  non-null values\n",
       "DOCAone                67553  non-null values\n",
       "DOCAtwo                67553  non-null values\n",
       "DOCAthree              67553  non-null values\n",
       "IP_p0p2                67553  non-null values\n",
       "IP_p1p2                67553  non-null values\n",
       "isolationa             67553  non-null values\n",
       "isolationb             67553  non-null values\n",
       "isolationc             67553  non-null values\n",
       "isolationd             67553  non-null values\n",
       "isolatione             67553  non-null values\n",
       "isolationf             67553  non-null values\n",
       "iso                    67553  non-null values\n",
       "CDF1                   67553  non-null values\n",
       "CDF2                   67553  non-null values\n",
       "CDF3                   67553  non-null values\n",
       "ISO_SumBDT             67553  non-null values\n",
       "p0_IsoBDT              67553  non-null values\n",
       "p1_IsoBDT              67553  non-null values\n",
       "p2_IsoBDT              67553  non-null values\n",
       "p0_track_Chi2Dof       67553  non-null values\n",
       "p1_track_Chi2Dof       67553  non-null values\n",
       "p2_track_Chi2Dof       67553  non-null values\n",
       "p0_IP                  67553  non-null values\n",
       "p1_IP                  67553  non-null values\n",
       "p2_IP                  67553  non-null values\n",
       "p0_IPSig               67553  non-null values\n",
       "p1_IPSig               67553  non-null values\n",
       "p2_IPSig               67553  non-null values\n",
       "p0_pt                  67553  non-null values\n",
       "p1_pt                  67553  non-null values\n",
       "p2_pt                  67553  non-null values\n",
       "p0_p                   67553  non-null values\n",
       "p1_p                   67553  non-null values\n",
       "p2_p                   67553  non-null values\n",
       "p0_eta                 67553  non-null values\n",
       "p1_eta                 67553  non-null values\n",
       "p2_eta                 67553  non-null values\n",
       "SPDhits                67553  non-null values\n",
       "production             67553  non-null values\n",
       "signal                 67553  non-null values\n",
       "mass                   67553  non-null values\n",
       "min_ANNmuon            67553  non-null values\n",
       "Flight_dist_sig        67553  non-null values\n",
       "p0_pz                  67553  non-null values\n",
       "p1_pz                  67553  non-null values\n",
       "p2_pz                  67553  non-null values\n",
       "tau_pz                 67553  non-null values\n",
       "tau_p                  67553  non-null values\n",
       "tau_v                  67553  non-null values\n",
       "tau_m                  67553  non-null values\n",
       "tau_e                  67553  non-null values\n",
       "tau_m2                 67553  non-null values\n",
       "tau_m_k                67553  non-null values\n",
       "tau_m_t                67553  non-null values\n",
       "dtypes: float64(56), int64(6)"
      ]
     },
     "execution_count": 17,
     "metadata": {},
     "output_type": "execute_result"
    }
   ],
   "source": [
    "train"
   ]
  },
  {
   "cell_type": "code",
   "execution_count": 31,
   "metadata": {
    "collapsed": false
   },
   "outputs": [
    {
     "data": {
      "text/plain": [
       "<matplotlib.text.Text at 0x7fd4d09c9390>"
      ]
     },
     "execution_count": 31,
     "metadata": {},
     "output_type": "execute_result"
    },
    {
     "data": {
      "image/png": "[encoded data removed]",
      "text/plain": [
       "<matplotlib.figure.Figure at 0x7fd4d1095e90>"
      ]
     },
     "metadata": {},
     "output_type": "display_data"
    }
   ],
   "source": [
    "import matplotlib.pyplot as plt\n",
    "%matplotlib inline\n",
    "n, bins, patches = plt.hist(train.mass[train.signal==1], 100, facecolor='red', alpha=0.75)\n",
    "n, bins, patches = plt.hist(train.mass[train.signal==0], 100, facecolor='blue', alpha=0.75)\n",
    "plt.xlabel(\"Mass\")\n",
    "plt.ylabel(\"Counts\")"
   ]
  }
 ],
 "metadata": {
  "kernelspec": {
   "display_name": "Python 2",
   "language": "python2",
   "name": "python2"
  },
  "language_info": {
   "codemirror_mode": {
    "name": "ipython",
    "version": 2
   },
   "file_extension": ".py",
   "mimetype": "text/x-python",
   "name": "python",
   "nbconvert_exporter": "python",
   "pygments_lexer": "ipython2",
   "version": "2.7.12"
  }
 },
 "nbformat": 4,
 "nbformat_minor": 1
}
